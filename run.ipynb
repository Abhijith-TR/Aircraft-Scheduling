{
 "cells": [
  {
   "cell_type": "code",
   "execution_count": 1,
   "metadata": {},
   "outputs": [],
   "source": [
    "from utils.input import make_input_from_csv, read_input\n",
    "from problem.acs import ACS\n",
    "from problem.rhc_solver import RHCSolver\n",
    "from optimisation.fcfs import FCFS\n",
    "from optimisation.ga import GeneticOptimiser\n",
    "from optimisation.bee_colony_optimiser import BeeColonyOptimiser"
   ]
  },
  {
   "cell_type": "code",
   "execution_count": 2,
   "metadata": {},
   "outputs": [
    {
     "name": "stdout",
     "output_type": "stream",
     "text": [
      "ACS < 4 : 3 : [[82, 69, 60], [131, 69, 60], [196, 157, 96]]: 203 Airplanes>\n"
     ]
    }
   ],
   "source": [
    "make_input_from_csv(\"./dataset/ikli_datasets/data_15_19.csv\", num_runways=4)\n",
    "ac_input = read_input()\n",
    "asp = ACS(*ac_input)\n",
    "print(asp)"
   ]
  },
  {
   "cell_type": "code",
   "execution_count": 9,
   "metadata": {},
   "outputs": [
    {
     "name": "stdout",
     "output_type": "stream",
     "text": [
      "ACSolution<[3, 2, 2, 1, 3, 4, 3, 1, 2, 3, 4, 1, 2, 3, 4, 1, 2, 3, 2, 1, 3, 4, 2, 1, 4, 2, 3, 1, 3, 4, 1, 4, 3, 4, 2, 1, 3, 3, 1, 3, 3, 4, 2, 1, 3, 1, 2, 4, 4, 2, 4, 3, 1, 2, 2, 1, 2, 3, 4, 1, 2, 4, 3, 1, 2, 1, 4, 1, 4, 1, 2, 3, 1, 3, 2, 3, 4, 2, 2, 1, 3, 2, 4, 1, 2, 1, 4, 4, 3, 2, 1, 4, 2, 3, 2, 1, 4, 4, 1, 2, 1, 4, 3, 2, 4, 1, 4, 2, 2, 4, 1, 1, 3, 2, 2, 4, 3, 1, 1, 2, 4, 3, 1, 3, 2, 4, 3, 4, 2, 1, 4, 2, 3, 1, 3, 1, 4, 3, 2, 1, 1, 1, 3, 1, 4, 3, 2, 3, 4, 2, 3, 1, 4, 1, 4, 2, 4, 3, 1, 3, 2, 1, 3, 4, 4, 1, 2, 4, 3, 4, 3, 1, 2, 3, 3, 2, 4, 3, 1, 2, 4, 1, 4, 3, 1, 3, 1, 4, 2, 3, 1, 4, 1, 3, 4, 1, 2, 3, 4, 2, 3, 1, 1] : 206.97999999999996>\n",
      "Runway Usage: 55 48 51 49\n"
     ]
    }
   ],
   "source": [
    "bco_args = {\n",
    "    \"number_of_bees\": 1000,\n",
    "    \"max_iter\": 100,\n",
    "    \"trial_limit\": 10,\n",
    "    \"max_scouts\": 1,\n",
    "}\n",
    "\n",
    "bco = RHCSolver(asp, 30 * 60, 2, BeeColonyOptimiser, bco_args).optimise()\n",
    "print(bco)\n",
    "print(\"Runway Usage:\", bco.value.count(1), bco.value.count(2), bco.value.count(3), bco.value.count(4))"
   ]
  },
  {
   "cell_type": "code",
   "execution_count": 8,
   "metadata": {},
   "outputs": [
    {
     "name": "stdout",
     "output_type": "stream",
     "text": [
      "ACSolution<[1, 2, 1, 2, 3, 1, 1, 1, 2, 3, 1, 2, 1, 2, 3, 4, 1, 2, 1, 2, 3, 4, 1, 2, 3, 1, 2, 3, 1, 2, 3, 1, 4, 1, 2, 1, 3, 2, 1, 2, 3, 4, 2, 1, 1, 2, 3, 4, 1, 2, 1, 2, 3, 4, 1, 1, 2, 3, 1, 2, 1, 2, 3, 4, 1, 3, 1, 2, 1, 2, 1, 2, 3, 4, 1, 1, 2, 3, 1, 2, 1, 2, 3, 4, 1, 1, 2, 3, 1, 2, 3, 1, 4, 2, 1, 3, 2, 1, 2, 1, 2, 1, 3, 4, 2, 1, 2, 3, 4, 1, 2, 3, 4, 2, 3, 1, 2, 1, 2, 3, 4, 1, 1, 2, 3, 2, 1, 2, 1, 2, 3, 1, 4, 2, 3, 4, 1, 2, 3, 4, 4, 1, 2, 1, 2, 3, 4, 2, 1, 2, 3, 1, 2, 3, 1, 2, 3, 4, 1, 1, 2, 1, 2, 3, 1, 2, 4, 1, 2, 1, 2, 3, 4, 1, 1, 2, 1, 1, 2, 3, 4, 1, 2, 1, 2, 1, 2, 3, 4, 1, 2, 3, 1, 2, 2, 1, 3, 4, 2, 1, 3, 1, 1] : 194.38>\n",
      "Runway Usage: 74 64 40 25\n"
     ]
    }
   ],
   "source": [
    "fcfs = RHCSolver(asp, 30 * 60, 2, FCFS, {}).optimise()\n",
    "print(fcfs)\n",
    "print('Runway Usage:', fcfs.value.count(1), fcfs.value.count(2), fcfs.value.count(3), fcfs.value.count(4))"
   ]
  },
  {
   "cell_type": "code",
   "execution_count": null,
   "metadata": {},
   "outputs": [],
   "source": [
    "genetic_args = {\"population_size\": 50, \"generations\": 500}\n",
    "\n",
    "RHCSolver(asp, 30 * 60, 2, GeneticOptimiser, genetic_args).optimise()"
   ]
  }
 ],
 "metadata": {
  "kernelspec": {
   "display_name": "Python 3",
   "language": "python",
   "name": "python3"
  },
  "language_info": {
   "codemirror_mode": {
    "name": "ipython",
    "version": 3
   },
   "file_extension": ".py",
   "mimetype": "text/x-python",
   "name": "python",
   "nbconvert_exporter": "python",
   "pygments_lexer": "ipython3",
   "version": "3.11.0"
  }
 },
 "nbformat": 4,
 "nbformat_minor": 2
}
