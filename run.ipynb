{
 "cells": [
  {
   "cell_type": "code",
   "execution_count": 1,
   "metadata": {},
   "outputs": [],
   "source": [
    "from utils.input import make_input_from_csv, read_input\n",
    "from problem.acs import ACS\n",
    "from problem.rhc_solver import RHCSolver\n",
    "from optimisation.fcfs import FCFS\n",
    "from optimisation.ga import GeneticOptimiser\n",
    "from optimisation.bee_colony_optimiser import BeeColonyOptimiser"
   ]
  },
  {
   "cell_type": "markdown",
   "metadata": {},
   "source": [
    "### Reading input from csv"
   ]
  },
  {
   "cell_type": "code",
   "execution_count": 2,
   "metadata": {},
   "outputs": [
    {
     "name": "stdout",
     "output_type": "stream",
     "text": [
      "ACS < 3 : 3 : [[82.0, 69.0, 60.0], [131.0, 69.0, 60.0], [196.0, 157.0, 96.0]]: 203 Airplanes>\n"
     ]
    }
   ],
   "source": [
    "make_input_from_csv(\n",
    "    \"./dataset/ikli_datasets/data_15_19.csv\",   # path to csv file (this can be changed to any csv with the same format)\n",
    "    output_path=\"./data/my_input.txt\",\n",
    "    num_runways=3,\n",
    ")\n",
    "\n",
    "ac_input = read_input(path=\"./data/my_input.txt\")\n",
    "asp = ACS(*ac_input)\n",
    "print(asp)"
   ]
  },
  {
   "cell_type": "markdown",
   "metadata": {},
   "source": [
    "### Using Bee Colony Optimisation"
   ]
  },
  {
   "cell_type": "code",
   "execution_count": 6,
   "metadata": {},
   "outputs": [
    {
     "name": "stdout",
     "output_type": "stream",
     "text": [
      "ACSolution<[3, 2, 3, 2, 1, 3, 1, 3, 1, 2, 1, 2, 1, 1, 3, 2, 3, 2, 1, 1, 2, 3, 3, 2, 2, 1, 3, 1, 3, 2, 1, 3, 2, 1, 3, 2, 1, 3, 2, 2, 2, 3, 1, 3, 3, 3, 2, 1, 3, 3, 1, 3, 2, 3, 2, 1, 3, 2, 2, 3, 1, 1, 2, 3, 3, 2, 3, 1, 2, 1, 3, 2, 1, 3, 1, 3, 1, 1, 1, 3, 1, 2, 3, 1, 2, 1, 3, 2, 3, 1, 2, 3, 1, 2, 3, 1, 2, 3, 1, 2, 1, 2, 3, 3, 2, 1, 2, 3, 1, 3, 2, 2, 3, 2, 1, 1, 2, 1, 1, 3, 3, 2, 3, 2, 3, 2, 3, 2, 2, 1, 3, 2, 3, 1, 1, 3, 3, 2, 1, 2, 1, 3, 2, 3, 1, 2, 1, 3, 3, 3, 2, 2, 3, 2, 2, 3, 1, 2, 3, 3, 1, 1, 2, 3, 1, 3, 2, 3, 1, 1, 3, 1, 2, 2, 2, 3, 3, 2, 1, 2, 3, 2, 3, 2, 3, 2, 1, 2, 3, 2, 1, 3, 1, 2, 3, 2, 1, 3, 2, 3, 1, 2, 3] : 1160.4300000000003>\n",
      "Runway Usage: 60 69 74\n"
     ]
    }
   ],
   "source": [
    "# Configurations for BCO Change as per your needs\n",
    "bco_args = {\n",
    "    \"number_of_bees\": 1000,\n",
    "    \"max_iter\": 100,\n",
    "    \"trial_limit\": 10,\n",
    "    \"max_scouts\": 2,\n",
    "}\n",
    "\n",
    "bco = RHCSolver(asp, 30 * 60, 2, BeeColonyOptimiser, bco_args).optimise()\n",
    "print(bco)\n",
    "print(\"Runway Usage:\", bco.value.count(1), bco.value.count(2), bco.value.count(3))"
   ]
  },
  {
   "cell_type": "markdown",
   "metadata": {},
   "source": [
    "### Using Simple FCFS"
   ]
  },
  {
   "cell_type": "code",
   "execution_count": 8,
   "metadata": {},
   "outputs": [
    {
     "name": "stdout",
     "output_type": "stream",
     "text": [
      "ACSolution<[1, 2, 1, 2, 3, 1, 1, 1, 2, 3, 1, 2, 1, 2, 3, 1, 2, 3, 1, 2, 3, 1, 2, 3, 1, 2, 3, 1, 1, 2, 3, 1, 2, 1, 2, 1, 3, 2, 1, 2, 3, 2, 3, 1, 1, 2, 3, 2, 1, 2, 1, 2, 3, 1, 2, 1, 2, 3, 1, 2, 1, 2, 3, 1, 3, 2, 1, 2, 1, 2, 1, 2, 3, 1, 2, 1, 2, 3, 1, 2, 1, 2, 3, 1, 2, 1, 2, 3, 1, 2, 3, 1, 3, 2, 1, 3, 2, 1, 2, 1, 2, 1, 3, 2, 3, 1, 2, 3, 1, 1, 2, 3, 2, 3, 1, 2, 3, 1, 2, 3, 1, 2, 1, 2, 3, 2, 1, 2, 1, 2, 3, 1, 2, 3, 2, 3, 1, 2, 3, 1, 2, 3, 1, 1, 2, 3, 2, 1, 1, 2, 3, 1, 2, 3, 1, 2, 3, 1, 3, 1, 2, 1, 2, 3, 1, 2, 3, 1, 2, 1, 2, 3, 1, 3, 1, 2, 1, 1, 2, 3, 1, 1, 2, 1, 2, 1, 2, 3, 1, 1, 2, 3, 1, 2, 2, 1, 3, 2, 1, 2, 3, 1, 1] : 1444.6299999999999>\n",
      "Runway Usage: 80 73 50 0\n"
     ]
    }
   ],
   "source": [
    "fcfs = RHCSolver(asp, 20 * 60, 2, FCFS, {}).optimise()\n",
    "print(fcfs)\n",
    "print('Runway Usage:', fcfs.value.count(1), fcfs.value.count(2), fcfs.value.count(3), fcfs.value.count(4))"
   ]
  },
  {
   "cell_type": "markdown",
   "metadata": {},
   "source": [
    "### Using Genetic Algorithms"
   ]
  },
  {
   "cell_type": "code",
   "execution_count": null,
   "metadata": {},
   "outputs": [
    {
     "data": {
      "text/plain": [
       "ACSolution<[2, 3, 1, 3, 3, 1, 3, 1, 3, 3, 1, 2, 1, 2, 2, 3, 3, 2, 3, 1, 3, 2, 2, 1, 1, 3, 2, 1, 1, 2, 3, 3, 1, 1, 2, 1, 3, 3, 1, 1, 1, 2, 3, 3, 3, 1, 2, 1, 1, 3, 3, 2, 1, 1, 2, 2, 3, 1, 2, 1, 1, 3, 1, 2, 2, 3, 1, 3, 3, 2, 2, 3, 1, 2, 1, 1, 2, 1, 2, 3, 1, 2, 3, 2, 3, 2, 2, 3, 1, 3, 2, 3, 2, 1, 3, 2, 1, 3, 1, 2, 3, 1, 2, 3, 2, 3, 1, 2, 1, 3, 2, 2, 3, 1, 2, 1, 3, 1, 3, 2, 1, 2, 2, 2, 3, 2, 2, 3, 2, 3, 1, 2, 3, 1, 1, 3, 2, 2, 1, 3, 1, 2, 1, 2, 3, 1, 3, 2, 2, 2, 3, 3, 2, 1, 1, 3, 2, 1, 2, 2, 1, 2, 1, 2, 3, 1, 3, 2, 2, 3, 2, 3, 1, 3, 3, 2, 2, 3, 1, 2, 3, 1, 2, 1, 3, 1, 3, 1, 2, 2, 1, 3, 2, 1, 1, 2, 1, 3, 3, 1, 2, 3, 1] : 1386.91>"
      ]
     },
     "execution_count": 17,
     "metadata": {},
     "output_type": "execute_result"
    }
   ],
   "source": [
    "# Configurations for GA Change as per your needs\n",
    "genetic_args = {\"population_size\": 100, \"generations\": 500}\n",
    "\n",
    "RHCSolver(asp, 30 * 60, 2, GeneticOptimiser, genetic_args).optimise()"
   ]
  },
  {
   "cell_type": "markdown",
   "metadata": {},
   "source": [
    "### Comparing BCO to Genetic algorithm implemented in [previous work](https://ieeexplore.ieee.org/document/806209)"
   ]
  },
  {
   "cell_type": "code",
   "execution_count": 2,
   "metadata": {},
   "outputs": [
    {
     "name": "stdout",
     "output_type": "stream",
     "text": [
      "ACS < 3 : 3 : [[1.0, 1.0, 1.0], [1.5, 1.5, 1.0], [2.0, 1.5, 1.0]]: 12 Airplanes>\n"
     ]
    }
   ],
   "source": [
    "ac_input = read_input(path='./data/previous_work_input.txt')\n",
    "asp = ACS(*ac_input)\n",
    "print(asp)"
   ]
  },
  {
   "cell_type": "code",
   "execution_count": 3,
   "metadata": {},
   "outputs": [
    {
     "name": "stdout",
     "output_type": "stream",
     "text": [
      "ACSolution<[2, 3, 2, 1, 3, 3, 1, 1, 2, 3, 2, 1] : 3.0>\n",
      "Runway Usage: 4 4 4\n"
     ]
    }
   ],
   "source": [
    "bco_args = {\n",
    "    \"number_of_bees\": 100,\n",
    "    \"max_iter\": 25,\n",
    "    \"trial_limit\": 10,\n",
    "    \"max_scouts\": 2,\n",
    "}\n",
    "\n",
    "bco = RHCSolver(asp, 30 * 60, 2, BeeColonyOptimiser, bco_args).optimise()\n",
    "print(bco)\n",
    "print(\"Runway Usage:\", bco.value.count(1), bco.value.count(2), bco.value.count(3))"
   ]
  },
  {
   "cell_type": "markdown",
   "metadata": {},
   "source": [
    "Implementing a different evaluation function to make it consistent to the way it is calculated in  [this paper](https://ieeexplore.ieee.org/document/806209)"
   ]
  },
  {
   "cell_type": "code",
   "execution_count": 4,
   "metadata": {},
   "outputs": [],
   "source": [
    "def get_landing_times(acs, solution):\n",
    "    \"\"\"\n",
    "    Returns the landing times of the airplanes in the solution.\n",
    "\n",
    "    :param solution: The solution to be evaluated.\n",
    "    :return: The landing times of the airplanes in the solution.\n",
    "    \"\"\"\n",
    "    current_runway_times = [0] * acs.no_of_runways\n",
    "    ac_type_on_runway = [0] * acs.no_of_runways\n",
    "    landing_times = []\n",
    "\n",
    "    for i, runway in enumerate(solution):\n",
    "        if ac_type_on_runway[runway - 1] == 0:\n",
    "            ac_type_on_runway[runway - 1] = acs.all_ac[i].ac_type\n",
    "            current_runway_times[runway - 1] += acs.all_ac[i].eta_etd[runway - 1]\n",
    "            landing_times.append((current_runway_times[runway - 1], runway))\n",
    "            continue\n",
    "\n",
    "        current_ac_type = acs.all_ac[i].ac_type\n",
    "        previous_ac_type = ac_type_on_runway[runway - 1]\n",
    "        runway_delay = current_runway_times[runway - 1]\n",
    "        min_runway_landing_time = (\n",
    "            runway_delay\n",
    "            + acs.separation_matrix[previous_ac_type - 1][current_ac_type - 1]\n",
    "        )\n",
    "        landing_time = max(\n",
    "            acs.all_ac[i].eta_etd[runway - 1], min_runway_landing_time + 1\n",
    "        )\n",
    "\n",
    "        current_runway_times[runway - 1] = landing_time\n",
    "        ac_type_on_runway[runway - 1] = acs.all_ac[i].ac_type\n",
    "        landing_times.append((landing_time, runway))\n",
    "\n",
    "    return landing_times\n",
    "\n",
    "\n",
    "def evaluate(acs, solution) -> float:\n",
    "    \"\"\"\n",
    "    Function that evaluates the solution. The cost of the solution is the sum of\n",
    "    the delay costs of all landing airplanes.\n",
    "\n",
    "    :param solution: The solution to be evaluated.\n",
    "    :return: The cost of the solution.\n",
    "    \"\"\"\n",
    "    landing_times = get_landing_times(acs, solution)\n",
    "    cost = 0\n",
    "    for i in range(len(solution)):\n",
    "        time, runway = landing_times[i]\n",
    "        cost += max(0, (time - acs.all_ac[i].eta_etd[runway - 1]) ** 2)\n",
    "\n",
    "    return cost"
   ]
  },
  {
   "cell_type": "code",
   "execution_count": 5,
   "metadata": {},
   "outputs": [
    {
     "name": "stdout",
     "output_type": "stream",
     "text": [
      "The fitness is: 5.0\n"
     ]
    }
   ],
   "source": [
    "print(\"The fitness is:\", evaluate(asp, bco.value))"
   ]
  }
 ],
 "metadata": {
  "kernelspec": {
   "display_name": "Python 3",
   "language": "python",
   "name": "python3"
  },
  "language_info": {
   "codemirror_mode": {
    "name": "ipython",
    "version": 3
   },
   "file_extension": ".py",
   "mimetype": "text/x-python",
   "name": "python",
   "nbconvert_exporter": "python",
   "pygments_lexer": "ipython3",
   "version": "3.11.6"
  }
 },
 "nbformat": 4,
 "nbformat_minor": 2
}
